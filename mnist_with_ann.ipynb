{
  "nbformat": 4,
  "nbformat_minor": 0,
  "metadata": {
    "colab": {
      "name": "mnist with ann",
      "provenance": [],
      "collapsed_sections": [],
      "authorship_tag": "ABX9TyNWRpLIRRO7BV+YHJ1mh9cv",
      "include_colab_link": true
    },
    "kernelspec": {
      "name": "python3",
      "display_name": "Python 3"
    }
  },
  "cells": [
    {
      "cell_type": "markdown",
      "metadata": {
        "id": "view-in-github",
        "colab_type": "text"
      },
      "source": [
        "<a href=\"https://colab.research.google.com/github/SZPiho/mnist-with-ann/blob/main/mnist_with_ann.ipynb\" target=\"_parent\"><img src=\"https://colab.research.google.com/assets/colab-badge.svg\" alt=\"Open In Colab\"/></a>"
      ]
    },
    {
      "cell_type": "code",
      "metadata": {
        "id": "V70ZSsOW0vmS"
      },
      "source": [
        "import tensorflow as tf"
      ],
      "execution_count": 1,
      "outputs": []
    },
    {
      "cell_type": "code",
      "metadata": {
        "id": "vi-xhMez03NQ"
      },
      "source": [
        "from tensorflow import keras"
      ],
      "execution_count": 2,
      "outputs": []
    },
    {
      "cell_type": "code",
      "metadata": {
        "id": "1wXCRjG51PSR"
      },
      "source": [
        "mnist=tf.keras.datasets.mnist"
      ],
      "execution_count": 3,
      "outputs": []
    },
    {
      "cell_type": "code",
      "metadata": {
        "id": "QwITsOjt1aSM",
        "colab": {
          "base_uri": "https://localhost:8080/"
        },
        "outputId": "531c5806-8a2a-4f20-a212-9afd3ad58f9a"
      },
      "source": [
        "(x_train,y_train),(x_test,y_test)=mnist.load_data()"
      ],
      "execution_count": 4,
      "outputs": [
        {
          "output_type": "stream",
          "name": "stdout",
          "text": [
            "Downloading data from https://storage.googleapis.com/tensorflow/tf-keras-datasets/mnist.npz\n",
            "11493376/11490434 [==============================] - 0s 0us/step\n",
            "11501568/11490434 [==============================] - 0s 0us/step\n"
          ]
        }
      ]
    },
    {
      "cell_type": "code",
      "metadata": {
        "id": "diB2Uy2NAGb_"
      },
      "source": [
        "x_train=x_train/255.0\n",
        "x_test=x_test/255.0"
      ],
      "execution_count": 5,
      "outputs": []
    },
    {
      "cell_type": "code",
      "metadata": {
        "id": "R7qCxdN-Ab9u"
      },
      "source": [
        "from tensorflow.keras import Sequential\n",
        "from tensorflow.keras.layers import Flatten,Dense"
      ],
      "execution_count": 6,
      "outputs": []
    },
    {
      "cell_type": "code",
      "metadata": {
        "id": "_l1Mp3v4Bu9l",
        "colab": {
          "base_uri": "https://localhost:8080/"
        },
        "outputId": "4c081aa0-45d6-4622-8193-04b591e62030"
      },
      "source": [
        "model = tf.keras.models.Sequential([\n",
        "  tf.keras.layers.Flatten(input_shape=(28, 28)),\n",
        "  tf.keras.layers.Dense(128, activation='relu'),\n",
        "  tf.keras.layers.Dropout(0.2),\n",
        "  tf.keras.layers.Dense(10,activation='softmax')\n",
        "])\n",
        "\n",
        "model.summary()"
      ],
      "execution_count": 7,
      "outputs": [
        {
          "output_type": "stream",
          "name": "stdout",
          "text": [
            "Model: \"sequential\"\n",
            "_________________________________________________________________\n",
            " Layer (type)                Output Shape              Param #   \n",
            "=================================================================\n",
            " flatten (Flatten)           (None, 784)               0         \n",
            "                                                                 \n",
            " dense (Dense)               (None, 128)               100480    \n",
            "                                                                 \n",
            " dropout (Dropout)           (None, 128)               0         \n",
            "                                                                 \n",
            " dense_1 (Dense)             (None, 10)                1290      \n",
            "                                                                 \n",
            "=================================================================\n",
            "Total params: 101,770\n",
            "Trainable params: 101,770\n",
            "Non-trainable params: 0\n",
            "_________________________________________________________________\n"
          ]
        }
      ]
    },
    {
      "cell_type": "code",
      "metadata": {
        "id": "br5ogkaPDr-P"
      },
      "source": [
        "model.compile(optimizer='adam',loss='SparseCategoricalCrossentropy',metrics=['accuracy'])"
      ],
      "execution_count": 8,
      "outputs": []
    },
    {
      "cell_type": "code",
      "metadata": {
        "id": "UBwjmcpmFsMc",
        "colab": {
          "base_uri": "https://localhost:8080/"
        },
        "outputId": "09b1bc08-a681-4c95-9b4c-50a5dd035269"
      },
      "source": [
        "model.fit(x_train,y_train,batch_size=10,epochs=10)"
      ],
      "execution_count": 9,
      "outputs": [
        {
          "output_type": "stream",
          "name": "stdout",
          "text": [
            "Epoch 1/10\n",
            "6000/6000 [==============================] - 18s 3ms/step - loss: 0.2528 - accuracy: 0.9240\n",
            "Epoch 2/10\n",
            "6000/6000 [==============================] - 16s 3ms/step - loss: 0.1301 - accuracy: 0.9609\n",
            "Epoch 3/10\n",
            "6000/6000 [==============================] - 17s 3ms/step - loss: 0.1020 - accuracy: 0.9684\n",
            "Epoch 4/10\n",
            "6000/6000 [==============================] - 17s 3ms/step - loss: 0.0856 - accuracy: 0.9733\n",
            "Epoch 5/10\n",
            "6000/6000 [==============================] - 16s 3ms/step - loss: 0.0764 - accuracy: 0.9759\n",
            "Epoch 6/10\n",
            "6000/6000 [==============================] - 16s 3ms/step - loss: 0.0668 - accuracy: 0.9787\n",
            "Epoch 7/10\n",
            "6000/6000 [==============================] - 17s 3ms/step - loss: 0.0609 - accuracy: 0.9806\n",
            "Epoch 8/10\n",
            "6000/6000 [==============================] - 16s 3ms/step - loss: 0.0564 - accuracy: 0.9815\n",
            "Epoch 9/10\n",
            "6000/6000 [==============================] - 17s 3ms/step - loss: 0.0560 - accuracy: 0.9821\n",
            "Epoch 10/10\n",
            "6000/6000 [==============================] - 17s 3ms/step - loss: 0.0481 - accuracy: 0.9839\n"
          ]
        },
        {
          "output_type": "execute_result",
          "data": {
            "text/plain": [
              "<keras.callbacks.History at 0x7f1e8f463a50>"
            ]
          },
          "metadata": {},
          "execution_count": 9
        }
      ]
    },
    {
      "cell_type": "code",
      "metadata": {
        "id": "oGbXBUibF1jB",
        "colab": {
          "base_uri": "https://localhost:8080/"
        },
        "outputId": "03af4ba7-6146-46de-8166-8ad9ee6dc9ee"
      },
      "source": [
        "model.evaluate(x_test,y_test)"
      ],
      "execution_count": 10,
      "outputs": [
        {
          "output_type": "stream",
          "name": "stdout",
          "text": [
            "313/313 [==============================] - 1s 2ms/step - loss: 0.0852 - accuracy: 0.9785\n"
          ]
        },
        {
          "output_type": "execute_result",
          "data": {
            "text/plain": [
              "[0.08515901863574982, 0.9785000085830688]"
            ]
          },
          "metadata": {},
          "execution_count": 10
        }
      ]
    },
    {
      "cell_type": "code",
      "metadata": {
        "id": "2nidxGMQHn4t"
      },
      "source": [
        ""
      ],
      "execution_count": null,
      "outputs": []
    }
  ]
}